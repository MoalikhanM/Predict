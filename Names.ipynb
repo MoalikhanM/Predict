{
 "cells": [
  {
   "cell_type": "code",
   "execution_count": 1,
   "id": "e9a78e1d",
   "metadata": {},
   "outputs": [
    {
     "name": "stderr",
     "output_type": "stream",
     "text": [
      "C:\\Users\\aoral\\anaconda3\\envs\\tensorflow-gpu\\lib\\site-packages\\numpy\\_distributor_init.py:30: UserWarning: loaded more than 1 DLL from .libs:\n",
      "C:\\Users\\aoral\\anaconda3\\envs\\tensorflow-gpu\\lib\\site-packages\\numpy\\.libs\\libopenblas.FB5AE2TYXYH2IJRDKGDGQ3XBKLKTF43H.gfortran-win_amd64.dll\n",
      "C:\\Users\\aoral\\anaconda3\\envs\\tensorflow-gpu\\lib\\site-packages\\numpy\\.libs\\libopenblas64__v0.3.21-gcc_10_3_0.dll\n",
      "  warnings.warn(\"loaded more than 1 DLL from .libs:\"\n"
     ]
    }
   ],
   "source": [
    "import pandas as pd # analyze data\n",
    "import string\n",
    "import numpy as np\n",
    "\n",
    "from sklearn.model_selection import train_test_split\n",
    "from sklearn.ensemble import RandomForestClassifier\n",
    "from sklearn.metrics import accuracy_score"
   ]
  },
  {
   "cell_type": "code",
   "execution_count": 2,
   "id": "1b6ce773",
   "metadata": {},
   "outputs": [],
   "source": [
    "df = pd.read_csv('')\n",
    "pd.set_option('display.max_rows', None) # display all rows in df"
   ]
  },
  {
   "cell_type": "code",
   "execution_count": null,
   "id": "80a4ad2d",
   "metadata": {},
   "outputs": [],
   "source": [
    "df.head(100)"
   ]
  },
  {
   "cell_type": "code",
   "execution_count": null,
   "id": "bd433ab1",
   "metadata": {},
   "outputs": [],
   "source": [
    "df.tail(100)"
   ]
  },
  {
   "cell_type": "code",
   "execution_count": 5,
   "id": "94223251",
   "metadata": {},
   "outputs": [],
   "source": [
    "def preprocess_name(name, max_length=20):\n",
    "    # Convert non-string values (like NaN) to an empty string\n",
    "    if not isinstance(name, str):\n",
    "        name = ''\n",
    "\n",
    "    # Define a dictionary mapping characters to integers\n",
    "    char_to_int = {ch: i+1 for i, ch in enumerate(string.ascii_lowercase)}\n",
    "\n",
    "    # Convert name to lowercase\n",
    "    name = name.lower()\n",
    "\n",
    "    # Convert each character in the name to its corresponding integer\n",
    "    encoded = [char_to_int.get(ch, 0) for ch in name]\n",
    "\n",
    "    # Pad or trim the encoded name to the fixed length\n",
    "    encoded = encoded[:max_length] + [0] * (max_length - len(encoded))\n",
    "\n",
    "    return np.array(encoded)\n"
   ]
  },
  {
   "cell_type": "code",
   "execution_count": 6,
   "id": "23c35f97",
   "metadata": {},
   "outputs": [],
   "source": [
    "# Preprocess names (this is simplified; you might need more complex preprocessing)\n",
    "#X = df['Name'].apply(preprocess_name)  # Convert names into a numerical format\n",
    "X = np.array(df['Name'].apply(preprocess_name).tolist())\n",
    "y = df['Country']"
   ]
  },
  {
   "cell_type": "code",
   "execution_count": 7,
   "id": "1ee11cb7",
   "metadata": {},
   "outputs": [],
   "source": [
    "# Split the dataset\n",
    "X_train, X_test, y_train, y_test = train_test_split(X, y, test_size=0.2)"
   ]
  },
  {
   "cell_type": "code",
   "execution_count": 8,
   "id": "b283691d",
   "metadata": {},
   "outputs": [
    {
     "data": {
      "text/html": [
       "<style>#sk-container-id-1 {color: black;background-color: white;}#sk-container-id-1 pre{padding: 0;}#sk-container-id-1 div.sk-toggleable {background-color: white;}#sk-container-id-1 label.sk-toggleable__label {cursor: pointer;display: block;width: 100%;margin-bottom: 0;padding: 0.3em;box-sizing: border-box;text-align: center;}#sk-container-id-1 label.sk-toggleable__label-arrow:before {content: \"▸\";float: left;margin-right: 0.25em;color: #696969;}#sk-container-id-1 label.sk-toggleable__label-arrow:hover:before {color: black;}#sk-container-id-1 div.sk-estimator:hover label.sk-toggleable__label-arrow:before {color: black;}#sk-container-id-1 div.sk-toggleable__content {max-height: 0;max-width: 0;overflow: hidden;text-align: left;background-color: #f0f8ff;}#sk-container-id-1 div.sk-toggleable__content pre {margin: 0.2em;color: black;border-radius: 0.25em;background-color: #f0f8ff;}#sk-container-id-1 input.sk-toggleable__control:checked~div.sk-toggleable__content {max-height: 200px;max-width: 100%;overflow: auto;}#sk-container-id-1 input.sk-toggleable__control:checked~label.sk-toggleable__label-arrow:before {content: \"▾\";}#sk-container-id-1 div.sk-estimator input.sk-toggleable__control:checked~label.sk-toggleable__label {background-color: #d4ebff;}#sk-container-id-1 div.sk-label input.sk-toggleable__control:checked~label.sk-toggleable__label {background-color: #d4ebff;}#sk-container-id-1 input.sk-hidden--visually {border: 0;clip: rect(1px 1px 1px 1px);clip: rect(1px, 1px, 1px, 1px);height: 1px;margin: -1px;overflow: hidden;padding: 0;position: absolute;width: 1px;}#sk-container-id-1 div.sk-estimator {font-family: monospace;background-color: #f0f8ff;border: 1px dotted black;border-radius: 0.25em;box-sizing: border-box;margin-bottom: 0.5em;}#sk-container-id-1 div.sk-estimator:hover {background-color: #d4ebff;}#sk-container-id-1 div.sk-parallel-item::after {content: \"\";width: 100%;border-bottom: 1px solid gray;flex-grow: 1;}#sk-container-id-1 div.sk-label:hover label.sk-toggleable__label {background-color: #d4ebff;}#sk-container-id-1 div.sk-serial::before {content: \"\";position: absolute;border-left: 1px solid gray;box-sizing: border-box;top: 0;bottom: 0;left: 50%;z-index: 0;}#sk-container-id-1 div.sk-serial {display: flex;flex-direction: column;align-items: center;background-color: white;padding-right: 0.2em;padding-left: 0.2em;position: relative;}#sk-container-id-1 div.sk-item {position: relative;z-index: 1;}#sk-container-id-1 div.sk-parallel {display: flex;align-items: stretch;justify-content: center;background-color: white;position: relative;}#sk-container-id-1 div.sk-item::before, #sk-container-id-1 div.sk-parallel-item::before {content: \"\";position: absolute;border-left: 1px solid gray;box-sizing: border-box;top: 0;bottom: 0;left: 50%;z-index: -1;}#sk-container-id-1 div.sk-parallel-item {display: flex;flex-direction: column;z-index: 1;position: relative;background-color: white;}#sk-container-id-1 div.sk-parallel-item:first-child::after {align-self: flex-end;width: 50%;}#sk-container-id-1 div.sk-parallel-item:last-child::after {align-self: flex-start;width: 50%;}#sk-container-id-1 div.sk-parallel-item:only-child::after {width: 0;}#sk-container-id-1 div.sk-dashed-wrapped {border: 1px dashed gray;margin: 0 0.4em 0.5em 0.4em;box-sizing: border-box;padding-bottom: 0.4em;background-color: white;}#sk-container-id-1 div.sk-label label {font-family: monospace;font-weight: bold;display: inline-block;line-height: 1.2em;}#sk-container-id-1 div.sk-label-container {text-align: center;}#sk-container-id-1 div.sk-container {/* jupyter's `normalize.less` sets `[hidden] { display: none; }` but bootstrap.min.css set `[hidden] { display: none !important; }` so we also need the `!important` here to be able to override the default hidden behavior on the sphinx rendered scikit-learn.org. See: https://github.com/scikit-learn/scikit-learn/issues/21755 */display: inline-block !important;position: relative;}#sk-container-id-1 div.sk-text-repr-fallback {display: none;}</style><div id=\"sk-container-id-1\" class=\"sk-top-container\"><div class=\"sk-text-repr-fallback\"><pre>RandomForestClassifier()</pre><b>In a Jupyter environment, please rerun this cell to show the HTML representation or trust the notebook. <br />On GitHub, the HTML representation is unable to render, please try loading this page with nbviewer.org.</b></div><div class=\"sk-container\" hidden><div class=\"sk-item\"><div class=\"sk-estimator sk-toggleable\"><input class=\"sk-toggleable__control sk-hidden--visually\" id=\"sk-estimator-id-1\" type=\"checkbox\" checked><label for=\"sk-estimator-id-1\" class=\"sk-toggleable__label sk-toggleable__label-arrow\">RandomForestClassifier</label><div class=\"sk-toggleable__content\"><pre>RandomForestClassifier()</pre></div></div></div></div></div>"
      ],
      "text/plain": [
       "RandomForestClassifier()"
      ]
     },
     "execution_count": 8,
     "metadata": {},
     "output_type": "execute_result"
    }
   ],
   "source": [
    "# Train a model\n",
    "model = RandomForestClassifier()\n",
    "model.fit(X_train, y_train)"
   ]
  },
  {
   "cell_type": "code",
   "execution_count": 9,
   "id": "e2b6551d",
   "metadata": {},
   "outputs": [
    {
     "name": "stdout",
     "output_type": "stream",
     "text": [
      "0.8799383853271104\n"
     ]
    }
   ],
   "source": [
    "# Predict and evaluate the model\n",
    "predictions = model.predict(X_test)\n",
    "print(accuracy_score(y_test, predictions))"
   ]
  },
  {
   "cell_type": "code",
   "execution_count": 11,
   "id": "52aa9aad",
   "metadata": {},
   "outputs": [
    {
     "data": {
      "text/plain": [
       "['rfc_predict_nation_by_names.joblib']"
      ]
     },
     "execution_count": 11,
     "metadata": {},
     "output_type": "execute_result"
    }
   ],
   "source": [
    "from joblib import dump\n",
    "\n",
    "# Assuming your model is named 'model'\n",
    "dump(model, 'rfc_predict_nation_by_names.joblib')"
   ]
  },
  {
   "cell_type": "code",
   "execution_count": null,
   "id": "dd25cb52",
   "metadata": {},
   "outputs": [],
   "source": [
    "from joblib import load\n",
    "\n",
    "model = load('rfc_predict_nation_by_names.joblib')"
   ]
  },
  {
   "cell_type": "code",
   "execution_count": 17,
   "id": "d354b6c2",
   "metadata": {},
   "outputs": [],
   "source": [
    "# Function to make a prediction\n",
    "\"\"\"\n",
    "def predict_nationality(model, name):\n",
    "    # Preprocess the name\n",
    "    processed_name = preprocess_name(name)\n",
    "    \n",
    "    # Reshape to match the input format of the model (1 sample, n features)\n",
    "    processed_name = processed_name.reshape(1, -1)\n",
    "    \n",
    "    # Make a prediction\n",
    "    predicted_nationality = model.predict(processed_name)\n",
    "    \n",
    "    return predicted_nationality[0]\n",
    "\"\"\"\n",
    "\n",
    "def predict_nationality(model, name, confidence_threshold=0.5):\n",
    "    processed_name = preprocess_name(name)\n",
    "    processed_name = processed_name.reshape(1, -1)\n",
    "\n",
    "    # Get the model's probability estimates\n",
    "    probabilities = model.predict_proba(processed_name)[0]\n",
    "\n",
    "    # Get the most likely nationality and its probability\n",
    "    max_probability = np.max(probabilities)\n",
    "    if max_probability < confidence_threshold:\n",
    "        return \"Unknown\"\n",
    "\n",
    "    predicted_nationality = model.classes_[np.argmax(probabilities)]\n",
    "    return predicted_nationality"
   ]
  },
  {
   "cell_type": "code",
   "execution_count": 20,
   "id": "8adc7858",
   "metadata": {},
   "outputs": [
    {
     "name": "stdout",
     "output_type": "stream",
     "text": [
      "The predicted nationality for Alikhan is: Azerbaijan\n"
     ]
    }
   ],
   "source": [
    "# Test the model with a new name\n",
    "test_name = \"Alikhan\"\n",
    "predicted_nationality = predict_nationality(model, test_name)\n",
    "print(f\"The predicted nationality for {test_name} is: {predicted_nationality}\")"
   ]
  },
  {
   "cell_type": "code",
   "execution_count": null,
   "id": "626b677a",
   "metadata": {},
   "outputs": [],
   "source": []
  }
 ],
 "metadata": {
  "kernelspec": {
   "display_name": "Python 3.9 (tensorflow-gpu)",
   "language": "python",
   "name": "tensorflow-gpu"
  },
  "language_info": {
   "codemirror_mode": {
    "name": "ipython",
    "version": 3
   },
   "file_extension": ".py",
   "mimetype": "text/x-python",
   "name": "python",
   "nbconvert_exporter": "python",
   "pygments_lexer": "ipython3",
   "version": "3.9.16"
  }
 },
 "nbformat": 4,
 "nbformat_minor": 5
}
